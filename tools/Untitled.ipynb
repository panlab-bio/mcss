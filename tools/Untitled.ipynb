{
 "cells": [
  {
   "cell_type": "code",
   "execution_count": 24,
   "id": "c81df534-b338-4cfd-861c-6a3fefbbbac2",
   "metadata": {},
   "outputs": [],
   "source": [
    "import requests\n",
    "import os\n",
    "import subprocess\n",
    "import pandas as pd\n",
    "import gzip\n",
    "from Bio import SeqIO\n",
    "from Bio.Seq import Seq\n"
   ]
  },
  {
   "cell_type": "code",
   "execution_count": 32,
   "id": "a9263abe-6a6a-4f5c-a584-1eee9054f550",
   "metadata": {},
   "outputs": [],
   "source": [
    "path_sp_strain_path = \"../data/strain_file/sp_strain.txt\"   \n",
    "path_sp_path = \"../data/sp_path2.txt\"\n",
    "path_strain_genome = \"../data/strain_genome/\"\n",
    "list_all = os.listdir(path_strain_genome)\n",
    "df_list_all = pd.DataFrame(list_all,columns=[\"path\"])\n",
    "df_list_all[\"path\"] = df_list_all[\"path\"].apply(lambda x:x.replace(\"_genomic.fna\",\"\"))\n"
   ]
  },
  {
   "cell_type": "code",
   "execution_count": 39,
   "id": "b24e127a-0bfa-489c-8630-0c03a44c41b3",
   "metadata": {},
   "outputs": [
    {
     "name": "stdout",
     "output_type": "stream",
     "text": [
      "78312\n",
      "              path                                                tax  \\\n",
      "0  GCF_000970205.1  d__Archaea;p__Halobacteriota;c__Methanosarcini...   \n",
      "1  GCF_000012285.1  d__Archaea;p__Thermoproteota;c__Thermoproteia;...   \n",
      "\n",
      "                             sp  \n",
      "0       s__Methanosarcina_mazei  \n",
      "1  s__Sulfolobus_acidocaldarius  \n",
      "144015\n"
     ]
    }
   ],
   "source": [
    "\n",
    "df_list_dl = pd.read_csv(path_sp_strain_path,header=None,sep=\"\\t\")\n",
    "df_list_dl.columns=[\"sp\",\"path\"]\n",
    "df_list_dl[\"path\"] = df_list_dl[\"path\"].apply(lambda x:x.split(\"/\")[-1])\n",
    "print(len(df_list_dl))\n",
    "\n",
    "path_list_gt = \"../data/gtdb_taxonomy_acns.tsv\"\n",
    "df_list_gt = pd.read_csv(path_list_gt,header=None,sep=\"\\t\")\n",
    "df_list_gt.columns=[\"path\",\"tax\"]\n",
    "df_list_gt[\"path\"] = df_list_gt[\"path\"].apply(lambda x:x.replace(\"GB_\",\"\"))\n",
    "df_list_gt[\"path\"] = df_list_gt[\"path\"].apply(lambda x:x.replace(\"RS_\",\"\"))\n",
    "df_list_gt[\"sp\"] = df_list_gt[\"tax\"].apply(lambda x:x.split(\";\")[-1].replace(\" \",\"_\"))\n",
    "print(df_list_gt[:2])\n",
    "df_list_gt_sp = df_list_gt[[\"sp\",\"path\"]]\n",
    "df_list_dl_sp = df_list_dl[[\"sp\",\"path\"]]\n",
    "df_list_gt_dl = pd.concat([df_list_gt_sp,df_list_dl_sp],axis=0,ignore_index=True)\n",
    "print(len(df_list_gt_dl))"
   ]
  },
  {
   "cell_type": "code",
   "execution_count": 40,
   "id": "dbaed849-443b-498f-abae-7267431da9bd",
   "metadata": {},
   "outputs": [
    {
     "name": "stdout",
     "output_type": "stream",
     "text": [
      "              path\n",
      "0  GCF_000970205.1\n",
      "1  GCF_000012285.1\n",
      "                             sp             path\n",
      "0       s__Methanosarcina_mazei  GCF_000970205.1\n",
      "1  s__Sulfolobus_acidocaldarius  GCF_000012285.1\n"
     ]
    }
   ],
   "source": [
    "print(df_list_all[:2])\n",
    "print(df_list_gt_dl[:2])"
   ]
  },
  {
   "cell_type": "code",
   "execution_count": 46,
   "id": "17fdf8c1-3b84-4eda-83ad-995b54a9023a",
   "metadata": {},
   "outputs": [
    {
     "name": "stdout",
     "output_type": "stream",
     "text": [
      "4\n",
      "                             sp                                     path\n",
      "0       s__Methanosarcina_mazei              GCF_000970205.1_genomic.fna\n",
      "1  s__Sulfolobus_acidocaldarius              GCF_000012285.1_genomic.fna\n",
      "2        s__UBA9973_sp002788475  GCA_002786695.1_ASM278669v1_genomic.fna\n",
      "3        s__UBA9973_sp002788475  GCA_002792785.1_ASM279278v1_genomic.fna\n"
     ]
    }
   ],
   "source": [
    "df_sp_all_merge = pd.merge(df_list_gt_dl,df_list_all,on=[\"path\"])\n",
    "df_sp_all_merge[\"path\"] = df_sp_all_merge[\"path\"].apply(lambda x:x+\"_genomic.fna\")\n",
    "print(len(df_sp_all_merge))\n",
    "print(df_sp_all_merge)\n",
    "df_sp_all_merge.to_csv(path_sp_path,header=None,sep=\"\\t\",index=None)"
   ]
  },
  {
   "cell_type": "code",
   "execution_count": 17,
   "id": "e688ed48-66fb-4270-bbb8-294c29637750",
   "metadata": {},
   "outputs": [],
   "source": [
    "def replace_n_with_random(sequence):\n",
    "    replaced_sequence = \"\"\n",
    "    nucleotides = ['A', 'T', 'C', 'G']\n",
    "    for base in sequence:\n",
    "        if base not in nucleotides:\n",
    "            replaced_sequence += random.choice(nucleotides)\n",
    "        else:\n",
    "            replaced_sequence += base\n",
    "    return replaced_sequence\n",
    "\n",
    "def process_fasta_file(input_file, output_file_name):\n",
    "    with gzip.open(input_file, \"rt\") as fasta_gz_file:\n",
    "        # has_n = any(\"N\" in record.seq for record in SeqIO.parse(fasta_gz_file, \"fasta\"))\n",
    "        # print(\"has_n\",has_n)\n",
    "        records = []\n",
    "        # if has_n:\n",
    "        cnt=0\n",
    "        for record in SeqIO.parse(fasta_gz_file, \"fasta\"):\n",
    "            if \"N\" in record.seq:\n",
    "                replaced_sequence = replace_n_with_random(str(record.seq))\n",
    "                new_record = record\n",
    "                new_record.seq = Seq(replaced_sequence)\n",
    "                records.append(new_record)\n",
    "                # print(\"N\",cnt)\n",
    "            else:\n",
    "                records.append(record)\n",
    "                # print(\"no N\",cnt)\n",
    "            cnt+=1\n",
    "\n",
    "        # print(\"records\",len(records))\n",
    "\n",
    "        with open(output_file_name, \"w\") as output_file:\n",
    "            SeqIO.write(records, output_file, \"fasta\")\n",
    "    \n",
    "#把结果放到一起\n",
    "def concatenate_sequences(input_file, output_file_name):\n",
    "    sequences = []\n",
    "    flag = True\n",
    "    \n",
    "    for record in SeqIO.parse(input_file, \"fasta\"):\n",
    "        if flag:\n",
    "            record_1 = record\n",
    "            flag = False\n",
    "        sequences.append(str(record.seq))\n",
    "    concatenated_sequence = ''.join(sequences)\n",
    "    record_1.seq=Seq(concatenated_sequence)\n",
    "    with open(output_file_name,\"w\") as output_file:\n",
    "        SeqIO.write(record_1,output_file,\"fasta\")\n",
    "def acns_path_fun_new_2(acn_a,path_genome):\n",
    "# acn_a = \"RS_GCF_004114995.1\"|\n",
    "    name_acn = acn_a.split(\"_\")\n",
    "    # print(name_acn)\n",
    "    path_a = os.path.join(path_genome,name_acn[0],name_acn[1][:3],name_acn[1][3:6],name_acn[1][6:9])\n",
    "    genome = os.path.join(path_a,os.listdir(path_a)[0])\n",
    "    return genome"
   ]
  },
  {
   "cell_type": "code",
   "execution_count": null,
   "id": "b730d77c-f68a-4759-ba71-8e8fa41659be",
   "metadata": {},
   "outputs": [],
   "source": []
  },
  {
   "cell_type": "code",
   "execution_count": 28,
   "id": "2a94bf80-2a4c-45ff-93f8-60fd9851154d",
   "metadata": {},
   "outputs": [],
   "source": []
  },
  {
   "cell_type": "code",
   "execution_count": 29,
   "id": "39a14d84-b930-4316-ae08-3ef227100a80",
   "metadata": {},
   "outputs": [
    {
     "name": "stdout",
     "output_type": "stream",
     "text": [
      "65703\n",
      "/data/huixingqi/sim_meta/data/ncbi_genome/gtdb_genomes_reps_r207/GCF/000/970/205/GCF_000970205.1_genomic.fna.gz\n",
      "/data/huixingqi/sim_meta/data/ncbi_genome/gtdb_genomes_reps_r207/GCF/000/012/285/GCF_000012285.1_genomic.fna.gz\n"
     ]
    }
   ],
   "source": [
    "path_strain_genome = \"./strian_genome_ori\"\n",
    "os.makedirs(path_strain_genome,exist_ok=True)\n",
    "path_genome = \"/data/huixingqi/sim_meta/data/ncbi_genome/gtdb_genomes_reps_r207/\"\n",
    "path_acns_gt = \"../data/gtdb_taxonomy_acns.tsv\"\n",
    "df_acns_gt = pd.read_csv(path_acns_gt,header=None,sep=\"\\t\")\n",
    "df_acns_gt.columns=[\"acns\",\"tax\"]\n",
    "df_acns_gt[\"acns\"] = df_acns_gt[\"acns\"].apply(lambda x:x.replace(\"GB_\",\"\"))\n",
    "df_acns_gt[\"acns\"] = df_acns_gt[\"acns\"].apply(lambda x:x.replace(\"RS_\",\"\"))\n",
    "list_gt_acns = df_acns_gt[\"acns\"].to_list()\n",
    "print(len(list_gt_acns))\n",
    "for lga in list_gt_acns[:2]:\n",
    "    \n",
    "    acns_path = acns_path_fun_new_2(lga,path_genome)\n",
    "    \n",
    "    print(acns_path)\n",
    "    strain_name = acns_path.split(\"/\")[-1].replace(\".gz\",\"\")\n",
    "    path_strain_name = os.path.join(path_strain_genome,strain_name)\n",
    "    if not os.path.exists(path_strain_name):\n",
    "        process_fasta_file(acns_path,path_strain_name)\n",
    "        concatenate_sequences(path_strain_name,path_strain_name)"
   ]
  },
  {
   "cell_type": "code",
   "execution_count": 6,
   "id": "e7568477-8a0d-438b-8778-31a30fffd0dc",
   "metadata": {},
   "outputs": [
    {
     "name": "stdout",
     "output_type": "stream",
     "text": [
      "65703\n"
     ]
    }
   ],
   "source": [
    "for strain in list_strain_choice_all:\n",
    "    # print(strain)\n",
    "    \n",
    "    strain_name = strain.split(\"/\")[-1].replace(\".gz\",\"\")\n",
    "    # print(strain_name)\n",
    "    path_strain_name = os.path.join(path_strain_genome,strain_name)\n",
    "    # print(path_strain_name)\n",
    "    if not os.path.exists(path_strain_name):\n",
    "    #     # print(path_strain_name)\n",
    "        # cmd_unzip = \"gunzip -c \"+ strain +\" > \"+ path_strain_name\n",
    "        # subprocess.run(cmd_unzip,shell=True)\n",
    "        #根本不需要解压，因为拼接和去N操作输入就是gz,输出就是非压缩文件\n",
    "        \n",
    "        process_fasta_file(strain,path_strain_name)\n",
    "        concatenate_sequences(path_strain_name,path_strain_name)"
   ]
  },
  {
   "cell_type": "code",
   "execution_count": null,
   "id": "a71226de-d83f-4477-a14b-6bac933a6049",
   "metadata": {},
   "outputs": [],
   "source": []
  }
 ],
 "metadata": {
  "kernelspec": {
   "display_name": "Python 3 (ipykernel)",
   "language": "python",
   "name": "python3"
  },
  "language_info": {
   "codemirror_mode": {
    "name": "ipython",
    "version": 3
   },
   "file_extension": ".py",
   "mimetype": "text/x-python",
   "name": "python",
   "nbconvert_exporter": "python",
   "pygments_lexer": "ipython3",
   "version": "3.8.13"
  }
 },
 "nbformat": 4,
 "nbformat_minor": 5
}
