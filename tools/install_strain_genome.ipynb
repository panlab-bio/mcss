{
 "cells": [
  {
   "cell_type": "code",
   "execution_count": 2,
   "id": "73871d9c-8ac1-453e-9dec-f94605730a12",
   "metadata": {},
   "outputs": [],
   "source": [
    "import pandas as pd\n",
    "import numpy as np"
   ]
  },
  {
   "cell_type": "code",
   "execution_count": null,
   "id": "57310452-500f-4b2d-8cc3-edefa10bec75",
   "metadata": {},
   "outputs": [],
   "source": [
    "path_strain_genome = \"\""
   ]
  },
  {
   "cell_type": "code",
   "execution_count": 6,
   "id": "e6ed08f9-ec87-4cee-8b0e-cf1a8ffcb11a",
   "metadata": {},
   "outputs": [
    {
     "name": "stdout",
     "output_type": "stream",
     "text": [
      "65703\n",
      "              acns                          sp\n",
      "0  GCF_004114995.1  s__Halorubrum_amylolyticum\n",
      "1  GCF_007671685.1    s__Halorubrum_salsamenti\n"
     ]
    }
   ],
   "source": [
    "#这是ref genome的acns，有65703个\n",
    "acns_tax_rep_path = \"/data/huixingqi/sim_meta/data/taxonomy_rank/name.txt\"\n",
    "acns_tax_rep = pd.read_csv(acns_tax_rep_path,sep=\"\\t\",header=None)\n",
    "print(len(acns_tax_rep))\n",
    "acns_tax_rep.columns=[\"acns\",\"sp\"]\n",
    "acns_tax_rep[\"acns\"] = acns_tax_rep[\"acns\"].apply(lambda x:x.replace(\"GB_\",\"\"))\n",
    "acns_tax_rep[\"acns\"] = acns_tax_rep[\"acns\"].apply(lambda x:x.replace(\"RS_\",\"\"))\n",
    "acns_tax_rep[\"acns\"] = acns_tax_rep[\"acns\"].apply(lambda x:x.split(\"_\")[0]+\"_\"+x.split(\"_\")[1])\n",
    "print(acns_tax_rep[:2])"
   ]
  },
  {
   "cell_type": "code",
   "execution_count": 7,
   "id": "a74d7365-1306-424c-93b8-886e56409121",
   "metadata": {},
   "outputs": [
    {
     "name": "stdout",
     "output_type": "stream",
     "text": [
      "1621901\n",
      "300088\n",
      "1921989\n",
      "1921989 1921989\n"
     ]
    }
   ],
   "source": [
    "#发现有些物种的old不在了\n",
    "#只要新的吧\n",
    "path_link1 = \"/data/huixingqi/sim_meta/data/ncbi_genome/assembly_summary_genbank.txt\"\n",
    "acns_link1 = pd.read_csv(path_link1,skiprows=[0],sep=\"\\t\")\n",
    "# print(len(acns_link1))\n",
    "# print(acns_link1[:5])\n",
    "acns_link1 = acns_link1.rename(columns={'# assembly_accession': 'acns'})\n",
    "# print(acns_link1[:5])\n",
    "acns_link_1 = acns_link1.loc[:,[\"acns\",\"taxid\",\"ftp_path\"]]\n",
    "print(len(acns_link_1))\n",
    "# print(acns_link_1[:5])\n",
    "path_link2 = \"/data/huixingqi/sim_meta/data/ncbi_genome/assembly_summary_refseq.txt\"\n",
    "acns_link2 = pd.read_csv(path_link2,skiprows=[0],sep=\"\\t\")\n",
    "acns_link2 = acns_link2.rename(columns={'# assembly_accession': 'acns'})\n",
    "acns_link_2 = acns_link2.loc[:,[\"acns\",\"taxid\",\"ftp_path\"]]\n",
    "print(len(acns_link_2))\n",
    "acns_link = pd.concat([acns_link_1,acns_link_2],axis=0)\n",
    "print(len(acns_link))\n",
    "\n",
    "acns_link_drop = acns_link.drop_duplicates().reset_index(drop=True)\n",
    "print(len(acns_link),len(acns_link_drop))\n",
    "\n",
    "\n"
   ]
  },
  {
   "cell_type": "code",
   "execution_count": 8,
   "id": "47184b87-ebe4-480a-9554-1884ede4a361",
   "metadata": {},
   "outputs": [
    {
     "name": "stderr",
     "output_type": "stream",
     "text": [
      "/tmp/ipykernel_2665357/3658395269.py:3: ParserWarning: Falling back to the 'python' engine because the 'c' engine does not support regex separators (separators > 1 char and different from '\\s+' are interpreted as regex); you can avoid this warning by specifying engine='python'.\n",
      "  df_all_ar = pd.read_csv(path_all_ar,header=None,sep=\"[\\t;]\")\n",
      "/tmp/ipykernel_2665357/3658395269.py:4: ParserWarning: Falling back to the 'python' engine because the 'c' engine does not support regex separators (separators > 1 char and different from '\\s+' are interpreted as regex); you can avoid this warning by specifying engine='python'.\n",
      "  df_all_bac = pd.read_csv(path_all_bac,header=None,sep=\"[\\t;]\")\n"
     ]
    },
    {
     "name": "stdout",
     "output_type": "stream",
     "text": [
      "6062 311480 317542\n",
      "317542\n",
      "              acns      domain             phylum               class  \\\n",
      "0  GCF_000979375.1  d__Archaea  p__Halobacteriota  c__Methanosarcinia   \n",
      "1  GCF_000970165.1  d__Archaea  p__Halobacteriota  c__Methanosarcinia   \n",
      "\n",
      "                  order                 family              genus  \\\n",
      "0  o__Methanosarcinales  f__Methanosarcinaceae  g__Methanosarcina   \n",
      "1  o__Methanosarcinales  f__Methanosarcinaceae  g__Methanosarcina   \n",
      "\n",
      "                   species  \n",
      "0  s__Methanosarcina_mazei  \n",
      "1  s__Methanosarcina_mazei  \n",
      "317542 317542\n",
      "65703\n",
      "len(unique_acns) 65703\n",
      "len(mask),len(df_all_gt) 317542 317542\n",
      "len(df_all_gt_noGT) 251839 251839\n",
      "65703\n",
      "251839\n"
     ]
    }
   ],
   "source": [
    "path_all_ar =\"/data/huixingqi/sim_meta/data/taxonomy_rank/ar53_taxonomy_r207.tsv\"\n",
    "path_all_bac =\"/data/huixingqi/sim_meta/data/taxonomy_rank/bac120_taxonomy_r207.tsv\"\n",
    "df_all_ar = pd.read_csv(path_all_ar,header=None,sep=\"[\\t;]\")\n",
    "df_all_bac = pd.read_csv(path_all_bac,header=None,sep=\"[\\t;]\")\n",
    "df_all_gt = pd.concat([df_all_ar,df_all_bac],axis=0)\n",
    "df_all_gt = df_all_gt.reset_index(drop=True)\n",
    "print(len(df_all_ar),len(df_all_bac),len(df_all_gt))\n",
    "\n",
    "# print(df_all_ar[:2])\n",
    "df_all_gt.columns=[\"acns\",\"domain\",\"phylum\",\"class\",\"order\",\"family\",\"genus\",\"species\"]\n",
    "print(len(df_all_gt))\n",
    "\n",
    "df_all_gt[\"species\"] = df_all_gt[\"species\"].apply(lambda x:x.replace(\" \",\"_\"))\n",
    "df_all_gt[\"acns\"] = df_all_gt[\"acns\"].apply(lambda x:x.replace(\"GB_\",\"\"))\n",
    "df_all_gt[\"acns\"] = df_all_gt[\"acns\"].apply(lambda x:x.replace(\"RS_\",\"\"))\n",
    "df_all_gt[\"acns\"] = df_all_gt[\"acns\"].apply(lambda x:x.split(\"_\")[0]+\"_\"+x.split(\"_\")[1])\n",
    "\n",
    "print(df_all_gt[:2])\n",
    "print(len(df_all_gt),df_all_gt[\"acns\"].nunique())\n",
    "print(df_all_gt[\"species\"].nunique())\n",
    "unique_acns = acns_tax_rep[\"acns\"].unique()\n",
    "mask = df_all_gt[\"acns\"].isin(unique_acns)\n",
    "mask_f = ~df_all_gt[\"acns\"].isin(unique_acns)\n",
    "print(\"len(unique_acns)\",len(unique_acns))\n",
    "print(\"len(mask),len(df_all_gt)\",len(mask),len(df_all_gt))\n",
    "df_all_gt_noGT  = df_all_gt.drop(df_all_gt[mask].index)\n",
    "df_all_gt_GT  = df_all_gt.drop(df_all_gt[mask_f].index)\n",
    "print(\"len(df_all_gt_noGT)\",len(df_all_gt_noGT),len(df_all_gt)-65703)\n",
    "print(len(df_all_gt_GT))\n",
    "df_all_gt_noGT_acns = pd.DataFrame(df_all_gt_noGT[\"acns\"])\n",
    "print(len(df_all_gt_noGT_acns))"
   ]
  },
  {
   "cell_type": "code",
   "execution_count": 23,
   "id": "a4e07cc2-3150-4805-b00b-754818b8850f",
   "metadata": {},
   "outputs": [
    {
     "name": "stdout",
     "output_type": "stream",
     "text": [
      "              acns      domain             phylum               class  \\\n",
      "0  GCF_000979375.1  d__Archaea  p__Halobacteriota  c__Methanosarcinia   \n",
      "1  GCF_000970165.1  d__Archaea  p__Halobacteriota  c__Methanosarcinia   \n",
      "\n",
      "                  order                 family              genus  \\\n",
      "0  o__Methanosarcinales  f__Methanosarcinaceae  g__Methanosarcina   \n",
      "1  o__Methanosarcinales  f__Methanosarcinaceae  g__Methanosarcina   \n",
      "\n",
      "                   species    taxid  \\\n",
      "0  s__Methanosarcina_mazei     2209   \n",
      "1  s__Methanosarcina_mazei  1434117   \n",
      "\n",
      "                                            ftp_path  \\\n",
      "0  https://ftp.ncbi.nlm.nih.gov/genomes/all/GCF/0...   \n",
      "1  https://ftp.ncbi.nlm.nih.gov/genomes/all/GCF/0...   \n",
      "\n",
      "                                                path  \n",
      "0  https://ftp.ncbi.nlm.nih.gov/genomes/all/GCF/0...  \n",
      "1  https://ftp.ncbi.nlm.nih.gov/genomes/all/GCF/0...  \n"
     ]
    }
   ],
   "source": [
    "df_path_noGT = pd.merge(df_all_gt_noGT,acns_link_drop,on=[\"acns\"])\n",
    "\n",
    "df_path_noGT[\"path\"] = df_path_noGT[\"ftp_path\"].apply(lambda x:x+\"/\"+x.split(\"/\")[-1]+\"_genomic.fna.gz\")\n",
    "print(df_path_noGT[:2])"
   ]
  },
  {
   "cell_type": "code",
   "execution_count": null,
   "id": "340267e8-2c02-41f6-becc-089dd7e70ae0",
   "metadata": {
    "tags": []
   },
   "outputs": [
    {
     "name": "stdout",
     "output_type": "stream",
     "text": [
      "无法连接到服务器或请求出错\n",
      "https://ftp.ncbi.nlm.nih.gov/genomes/all/GCF/000/617/325/GCF_000617325.1_Ec06-3325/GCF_000617325.1_Ec06-3325_genomic.fna.gz\n",
      "无法连接到服务器或请求出错\n",
      "https://ftp.ncbi.nlm.nih.gov/genomes/all/GCF/900/093/985/GCF_900093985.1_scaffolds_20160017/GCF_900093985.1_scaffolds_20160017_genomic.fna.gz\n",
      "无法连接到服务器或请求出错\n",
      "https://ftp.ncbi.nlm.nih.gov/genomes/all/GCF/009/812/175/GCF_009812175.1_ASM981217v1/GCF_009812175.1_ASM981217v1_genomic.fna.gz\n",
      "无法连接到服务器或请求出错\n",
      "https://ftp.ncbi.nlm.nih.gov/genomes/all/GCF/002/923/635/GCF_002923635.1_ASM292363v1/GCF_002923635.1_ASM292363v1_genomic.fna.gz\n",
      "无法连接到服务器或请求出错\n",
      "https://ftp.ncbi.nlm.nih.gov/genomes/all/GCF/005/382/325/GCF_005382325.1_ASM538232v1/GCF_005382325.1_ASM538232v1_genomic.fna.gz\n"
     ]
    }
   ],
   "source": [
    "cnt_fp = 0\n",
    "for fp in df_path_noGT[\"path\"]:\n",
    "    if check_file_exists(fp):\n",
    "        cnt_fp+=1\n",
    "    else:\n",
    "        \n",
    "        print(fp)\n",
    "        "
   ]
  },
  {
   "cell_type": "code",
   "execution_count": 22,
   "id": "9eb67886-ed8c-486c-a7c2-015faeea08ad",
   "metadata": {},
   "outputs": [
    {
     "name": "stdout",
     "output_type": "stream",
     "text": [
      "404\n"
     ]
    }
   ],
   "source": [
    "url = \"https://ftp.ncbi.nlm.nih.gov/genomes/all/GCF/000/979/375/GCF_000979375.1_gtlEnvA5udCFS/GCF_000979375.1_gtlEnvA5udCFS.fna.gz\"\n",
    "response = requests.head(url)\n",
    "print(response.status_code)"
   ]
  },
  {
   "cell_type": "code",
   "execution_count": 11,
   "id": "86b93470-e23d-432e-9103-308c02e1200b",
   "metadata": {},
   "outputs": [],
   "source": [
    "import requests\n",
    "\n",
    "def check_file_exists(url):\n",
    "    try:\n",
    "        response = requests.head(url)\n",
    "        if response.status_code == 200:\n",
    "            return True\n",
    "        elif response.status_code == 404:\n",
    "            return False\n",
    "        else:\n",
    "            print(f\"服务器返回状态码: {response.status_code}\")\n",
    "            return False\n",
    "    except requests.RequestException:\n",
    "        print(\"无法连接到服务器或请求出错\")\n",
    "        return False\n"
   ]
  },
  {
   "cell_type": "code",
   "execution_count": null,
   "id": "09affd5f-1bdd-47c7-8bba-16f3f79b8653",
   "metadata": {},
   "outputs": [],
   "source": []
  }
 ],
 "metadata": {
  "kernelspec": {
   "display_name": "Python 3 (ipykernel)",
   "language": "python",
   "name": "python3"
  },
  "language_info": {
   "codemirror_mode": {
    "name": "ipython",
    "version": 3
   },
   "file_extension": ".py",
   "mimetype": "text/x-python",
   "name": "python",
   "nbconvert_exporter": "python",
   "pygments_lexer": "ipython3",
   "version": "3.8.13"
  }
 },
 "nbformat": 4,
 "nbformat_minor": 5
}
